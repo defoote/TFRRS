{
 "cells": [
  {
   "cell_type": "markdown",
   "metadata": {},
   "source": [
    "# Import packages and initial settings"
   ]
  },
  {
   "cell_type": "code",
   "execution_count": 189,
   "metadata": {},
   "outputs": [],
   "source": [
    "import numpy as np\n",
    "import pandas as pd\n",
    "import matplotlib.pyplot as plt\n",
    "import seaborn as sns \n",
    "from urllib.request import Request,urlopen\n",
    "from datetime import datetime"
   ]
  },
  {
   "cell_type": "code",
   "execution_count": 2,
   "metadata": {},
   "outputs": [],
   "source": [
    "%matplotlib inline \n",
    "sns.set_style('darkgrid')"
   ]
  },
  {
   "cell_type": "markdown",
   "metadata": {},
   "source": [
    "# Create Function to dowload webpage\n",
    "Downloads webpage html, decodes, returns list of tables"
   ]
  },
  {
   "cell_type": "code",
   "execution_count": 2,
   "metadata": {},
   "outputs": [],
   "source": [
    "def get_webpage(url):\n",
    "    req = Request(url, headers={'User-Agent': 'Safari/12.0'})\n",
    "    webpage = urlopen(req).read()\n",
    "    webpage = webpage.decode('utf-8','ignore')\n",
    "    tables = pd.read_html(webpage,index_col=0)\n",
    "    return tables"
   ]
  },
  {
   "cell_type": "markdown",
   "metadata": {},
   "source": [
    "# Define lists of events and gender\n",
    "Sets the order of events and genders based on the order of events that TFRRS uses. This makes it possible to assign an event an gender to each table"
   ]
  },
  {
   "cell_type": "code",
   "execution_count": 195,
   "metadata": {},
   "outputs": [],
   "source": [
    "event_order = ['100','100','200','200','400','400',\n",
    "               '800','800','1500','1500','5000','5000','10000','10000',\n",
    "               '100H','110H','400H','400H','3000S','3000S',\n",
    "               '4x100','4x100','4x400','4x400',\n",
    "               'HJ','HJ','PV','PV','LJ','LJ','TJ','TJ',\n",
    "               'SP','SP','DT','DT','HT','HT', 'JT','JT',\n",
    "               'Hep','Dec']\n",
    "gender_order = ['M','W','M','W','M','W',\n",
    "                'M','W','M','W','M','W','M','W',\n",
    "                'M','W','M','W','M','W',\n",
    "                'M','W','M','W','M','W','M','W','M','W',\n",
    "                'M','W','M','W','M','W','M','W','M','W',\n",
    "                'M','W','M','W',]"
   ]
  },
  {
   "cell_type": "markdown",
   "metadata": {},
   "source": [
    "# Get url and download page"
   ]
  },
  {
   "cell_type": "code",
   "execution_count": 206,
   "metadata": {},
   "outputs": [],
   "source": [
    "url = 'https://www.tfrrs.org/archived_lists/1228/2014_NCAA_Division_I_Outdoor_Qualifying_(FINAL)/2014/o'"
   ]
  },
  {
   "cell_type": "code",
   "execution_count": 207,
   "metadata": {
    "scrolled": true
   },
   "outputs": [],
   "source": [
    "events = get_webpage(url)"
   ]
  },
  {
   "cell_type": "markdown",
   "metadata": {},
   "source": [
    "# Add event and gender column and save\n",
    "Save each year and event separately for safe keeping"
   ]
  },
  {
   "cell_type": "code",
   "execution_count": 208,
   "metadata": {},
   "outputs": [],
   "source": [
    "for i,event in enumerate(events):\n",
    "    event['EVENT'] = event_order[i]\n",
    "    event['GENDER'] = gender_order[i]\n"
   ]
  },
  {
   "cell_type": "code",
   "execution_count": 209,
   "metadata": {},
   "outputs": [],
   "source": [
    "#CHANGE YEAR\n",
    "\n",
    "for event in events:\n",
    "    event.to_csv('./TFRRS/2014_{}_{}.csv'.format(event.iloc[0]['GENDER'],event.iloc[0]['EVENT']))"
   ]
  },
  {
   "cell_type": "markdown",
   "metadata": {},
   "source": [
    "# Compile Results from each year into one frame for each event\n",
    "Also convert 'MEET DATE' column to datetime object and save each file"
   ]
  },
  {
   "cell_type": "code",
   "execution_count": 210,
   "metadata": {},
   "outputs": [],
   "source": [
    "#COMPILE ALL YEARS\n",
    "\n",
    "compiled_events = []\n",
    "\n",
    "for i,event in enumerate(event_order):\n",
    "    filenames = glob.glob('./TFRRS/*{}_{}.csv'.format(gender_order[i],event))\n",
    "    years = []\n",
    "    for j in range(len(filenames)):\n",
    "        years.append(pd.read_csv(filenames[j],index_col=0))\n",
    "    compiled_years = pd.concat(years)\n",
    "    compiled_years['MEET DATE'] = compiled_years['MEET DATE'].apply(lambda day: datetime.strptime(day,'%b %d, %Y'))\n",
    "    compiled_events.append(compiled_years)\n",
    "    compiled_years.to_csv('./TFRRS_Compiled/{}_{}.csv'.format(compiled_years.iloc[0]['GENDER'],\n",
    "                                                              compiled_years.iloc[0]['EVENT']))"
   ]
  },
  {
   "cell_type": "markdown",
   "metadata": {},
   "source": [
    "### Optionally allows parsing of 'ATHLETE NAME' into 'FIRST' and 'LAST' columns\n",
    "\n"
   ]
  },
  {
   "cell_type": "code",
   "execution_count": 110,
   "metadata": {},
   "outputs": [],
   "source": [
    "for event in events:\n",
    "    if event.iloc[0]['EVENT'] not in ('4x100','4x400'):\n",
    "        event['FIRST'] = event['ATHLETE'].apply(lambda x: x.split(', ')[0])\n",
    "        event['LAST'] = event['ATHLETE'].apply(lambda x: x.split(', ')[1])"
   ]
  },
  {
   "cell_type": "code",
   "execution_count": null,
   "metadata": {},
   "outputs": [],
   "source": []
  }
 ],
 "metadata": {
  "kernelspec": {
   "display_name": "Python 3",
   "language": "python",
   "name": "python3"
  },
  "language_info": {
   "codemirror_mode": {
    "name": "ipython",
    "version": 3
   },
   "file_extension": ".py",
   "mimetype": "text/x-python",
   "name": "python",
   "nbconvert_exporter": "python",
   "pygments_lexer": "ipython3",
   "version": "3.7.4"
  }
 },
 "nbformat": 4,
 "nbformat_minor": 2
}
